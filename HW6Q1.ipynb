{
 "cells": [
  {
   "cell_type": "code",
   "execution_count": 1,
   "metadata": {},
   "outputs": [],
   "source": [
    "import numpy as np"
   ]
  },
  {
   "cell_type": "code",
   "execution_count": 32,
   "metadata": {},
   "outputs": [],
   "source": [
    "# Inputs\n",
    "Mufy = 324054\n",
    "MuS = 8.2e-4\n",
    "Muq = 29.19\n",
    "Sigfy = 32405.4\n",
    "SigS = 8.2e-5\n",
    "Sigq = 5.838"
   ]
  },
  {
   "cell_type": "code",
   "execution_count": 102,
   "metadata": {},
   "outputs": [],
   "source": [
    "# Define a function to calculate beta from x*\n",
    "def calculatebeta(mpfx, mux, sigx, partialgx):\n",
    "    numerator = np.sum(mux*partialgx)-(mpfx[0]*mpfx[1])\n",
    "    denominator = np.sqrt(np.sum(sigx*sigx*partialgx*partialgx))\n",
    "    beta = numerator/denominator\n",
    "    return beta  "
   ]
  },
  {
   "cell_type": "code",
   "execution_count": 103,
   "metadata": {},
   "outputs": [],
   "source": [
    "# Define a function to calculate x*' from beta \n",
    "def calculatempfxp(sigx, partialgx, beta):\n",
    "    numerator = sigx*partialgx\n",
    "    denominator = np.sqrt(np.sum(sigx*sigx*partialgx*partialgx))\n",
    "    alpha = numerator/denominator\n",
    "    mpfxp = -beta * alpha\n",
    "    return mpfxp  "
   ]
  },
  {
   "cell_type": "code",
   "execution_count": 104,
   "metadata": {},
   "outputs": [],
   "source": [
    "def iteratxbeta(initialmpfxp, mux, sigx, l):\n",
    "    # Itinialize the discrepancy between the iterated reduced mpfx\n",
    "    discrep = 10\n",
    "    mpfxp = initialmpfxp\n",
    "    mpfx = initialmpfxp * sigx + mux\n",
    "    # Define a list to store the iterative procedure\n",
    "    mpfxlist = []\n",
    "    betalist = []\n",
    "    # Define a criteria for convergence\n",
    "    criteria = 1e-8\n",
    "    while discrep > criteria:\n",
    "        # Calculate beta\n",
    "        partialgx = np.array([mpfx[1], mpfx[0], -(l*l/8)], dtype=np.float64)\n",
    "        beta = calculatebeta(mpfx, mux, sigx, partialgx)\n",
    "        # Update mpfx\n",
    "        mpfxpnew = calculatempfxp(sigx, partialgx, beta)\n",
    "        mpfx = mpfxpnew*sigx + mux\n",
    "        # Set the Eulerian distance betweeen the mpfxp vector as the discrepancy\n",
    "        discrep = np.linalg.norm(mpfxpnew-mpfxp)\n",
    "        # Update mpfxp\n",
    "        mpfxp = mpfxpnew\n",
    "        mpfxlist.append(mpfx)\n",
    "        betalist.append(beta)\n",
    "    return mpfxlist, betalist "
   ]
  },
  {
   "cell_type": "code",
   "execution_count": 98,
   "metadata": {},
   "outputs": [],
   "source": [
    "Mux = np.array([Mufy, MuS, Muq], dtype=np.float64)\n",
    "Sigx = np.array([Sigfy, SigS, Sigq], dtype=np.float64)\n",
    "Initialmpfxp = np.array([0, 0, 0]) \n",
    "L = 6.1"
   ]
  },
  {
   "cell_type": "code",
   "execution_count": 105,
   "metadata": {},
   "outputs": [],
   "source": [
    "Mpfxlist, Betalist = iteratxbeta(Initialmpfxp, Mux, Sigx, L)"
   ]
  },
  {
   "cell_type": "code",
   "execution_count": 106,
   "metadata": {},
   "outputs": [
    {
     "data": {
      "text/plain": [
       "[array([2.71994947e+05, 6.88267563e-04, 3.87739712e+01]),\n",
       " array([2.72693458e+05, 6.90035104e-04, 4.04551087e+01]),\n",
       " array([2.72636965e+05, 6.89892151e-04, 4.04386120e+01]),\n",
       " array([2.72641483e+05, 6.89903585e-04, 4.04399541e+01]),\n",
       " array([2.72641122e+05, 6.89902669e-04, 4.04398468e+01]),\n",
       " array([2.72641150e+05, 6.89902743e-04, 4.04398554e+01]),\n",
       " array([2.72641148e+05, 6.89902737e-04, 4.04398547e+01]),\n",
       " array([2.72641148e+05, 6.89902737e-04, 4.04398548e+01]),\n",
       " array([2.72641148e+05, 6.89902737e-04, 4.04398548e+01])]"
      ]
     },
     "execution_count": 106,
     "metadata": {},
     "output_type": "execute_result"
    }
   ],
   "source": [
    "Mpfxlist"
   ]
  },
  {
   "cell_type": "code",
   "execution_count": 107,
   "metadata": {},
   "outputs": [
    {
     "data": {
      "text/plain": [
       "[2.8029744073813334,\n",
       " 2.957613933667967,\n",
       " 2.9576411772649256,\n",
       " 2.9576413555321723,\n",
       " 2.9576413566725286,\n",
       " 2.9576413566798383,\n",
       " 2.957641356679883,\n",
       " 2.9576413566798845,\n",
       " 2.9576413566798854]"
      ]
     },
     "execution_count": 107,
     "metadata": {},
     "output_type": "execute_result"
    }
   ],
   "source": [
    "Betalist"
   ]
  },
  {
   "cell_type": "code",
   "execution_count": 108,
   "metadata": {},
   "outputs": [],
   "source": [
    "from scipy.stats import norm"
   ]
  },
  {
   "cell_type": "code",
   "execution_count": 109,
   "metadata": {},
   "outputs": [
    {
     "name": "stdout",
     "output_type": "stream",
     "text": [
      "0.0015502208227223813\n"
     ]
    }
   ],
   "source": [
    "# Output the failure probability \n",
    "print(1-norm.cdf(2.9576))"
   ]
  },
  {
   "cell_type": "code",
   "execution_count": 113,
   "metadata": {},
   "outputs": [],
   "source": [
    "# Use PAC Monte Carlo to calculate the pf\n",
    "def failurestate(mux, sigx, l):\n",
    "    # Sample\n",
    "    x1 = np.random.normal(loc=mux[0], scale=sigx[0], size=1)[0]\n",
    "    x2 = np.random.normal(loc=mux[1], scale=sigx[1], size=1)[0]\n",
    "    x3 = np.random.normal(loc=mux[2], scale=sigx[2], size=1)[0]\n",
    "    # Check if failure occurs\n",
    "    state = 0\n",
    "    if x1*x2-(x3*l*l/8) < 0:\n",
    "        state = 1\n",
    "    return state "
   ]
  },
  {
   "cell_type": "code",
   "execution_count": 111,
   "metadata": {},
   "outputs": [],
   "source": [
    "# Implement the GBAS algorithm\n",
    "def GBAS(k, mux, sigx, l):\n",
    "    # Initialize variable\n",
    "    scount = 0\n",
    "    qcount = 0\n",
    "    samplesize = 0\n",
    "    while scount < k:\n",
    "        # Repeat MCS\n",
    "        scount += failurestate(mux, sigx, l)\n",
    "        qcount += np.random.exponential(scale = 1.0, size = 1)[0]\n",
    "        samplesize += 1\n",
    "    r = (k-1)/qcount\n",
    "    return r, samplesize "
   ]
  },
  {
   "cell_type": "code",
   "execution_count": 138,
   "metadata": {},
   "outputs": [],
   "source": [
    "# k parameter for GBAS for Epsilon = 0.05, Delta = 0.05 K = 1550, E=0.02, D=0.01 K=16600\n",
    "K = 16600\n",
    "Pf, Samplesize = GBAS(K, Mux, Sigx, L)"
   ]
  },
  {
   "cell_type": "code",
   "execution_count": 139,
   "metadata": {},
   "outputs": [
    {
     "data": {
      "text/plain": [
       "0.001646677673261173"
      ]
     },
     "execution_count": 139,
     "metadata": {},
     "output_type": "execute_result"
    }
   ],
   "source": [
    "Pf"
   ]
  },
  {
   "cell_type": "code",
   "execution_count": 143,
   "metadata": {},
   "outputs": [
    {
     "data": {
      "text/plain": [
       "10078792"
      ]
     },
     "execution_count": 143,
     "metadata": {},
     "output_type": "execute_result"
    }
   ],
   "source": [
    "Samplesize"
   ]
  },
  {
   "cell_type": "code",
   "execution_count": 116,
   "metadata": {},
   "outputs": [
    {
     "name": "stdout",
     "output_type": "stream",
     "text": [
      "0.07100591715976332\n"
     ]
    }
   ],
   "source": [
    "print(0.12/1.69)"
   ]
  },
  {
   "cell_type": "code",
   "execution_count": 132,
   "metadata": {},
   "outputs": [
    {
     "name": "stdout",
     "output_type": "stream",
     "text": [
      "0.9803921568627451\n"
     ]
    }
   ],
   "source": [
    "print(1/1.02)"
   ]
  },
  {
   "cell_type": "code",
   "execution_count": null,
   "metadata": {},
   "outputs": [],
   "source": [
    "0.98039"
   ]
  },
  {
   "cell_type": "code",
   "execution_count": 144,
   "metadata": {},
   "outputs": [
    {
     "name": "stdout",
     "output_type": "stream",
     "text": [
      "[-1.58655193 -1.58655191  1.92700504]\n"
     ]
    }
   ],
   "source": [
    "x = np.array([2.72641150e+05, 6.89902743e-04, 4.04398554e+01])\n",
    "xp = (x - Mux)/Sigx\n",
    "print(xp)"
   ]
  },
  {
   "cell_type": "code",
   "execution_count": 142,
   "metadata": {},
   "outputs": [
    {
     "name": "stdout",
     "output_type": "stream",
     "text": [
      "1.6806122448979592\n"
     ]
    }
   ],
   "source": [
    "print(1.647/0.98)"
   ]
  },
  {
   "cell_type": "code",
   "execution_count": null,
   "metadata": {},
   "outputs": [],
   "source": []
  }
 ],
 "metadata": {
  "kernelspec": {
   "display_name": "Python 3",
   "language": "python",
   "name": "python3"
  },
  "language_info": {
   "codemirror_mode": {
    "name": "ipython",
    "version": 3
   },
   "file_extension": ".py",
   "mimetype": "text/x-python",
   "name": "python",
   "nbconvert_exporter": "python",
   "pygments_lexer": "ipython3",
   "version": "3.8.3"
  }
 },
 "nbformat": 4,
 "nbformat_minor": 4
}
