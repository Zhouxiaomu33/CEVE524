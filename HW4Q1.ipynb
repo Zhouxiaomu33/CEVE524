{
 "cells": [
  {
   "cell_type": "code",
   "execution_count": 40,
   "metadata": {},
   "outputs": [],
   "source": [
    "import numpy as np\n",
    "import matplotlib\n",
    "import matplotlib.pyplot as plt\n",
    "# \"the default sans-serif font is Arial\"\n",
    "matplotlib.rcParams['font.sans-serif'] = \"Arial\"\n",
    "# Then, \"ALWAYS use sans-serif fonts\"\n",
    "matplotlib.rcParams['font.family'] = \"sans-serif\"\n",
    "matplotlib.rcParams.update({'font.size': 10})"
   ]
  },
  {
   "cell_type": "code",
   "execution_count": 41,
   "metadata": {},
   "outputs": [],
   "source": [
    "# Define a function for Markov chain simulation\n",
    "def markovsimulation(n, pt):\n",
    "    # Initialize the time step count\n",
    "    # Samples\n",
    "    xlist = []\n",
    "    ocp = []\n",
    "    # Initialize the state\n",
    "    xmm1 = 2\n",
    "    for j in range(n):\n",
    "        # Withdraw the corresponding transition probability\n",
    "        i = xmm1 - 1\n",
    "        pi = pt[i]\n",
    "        # Sampling the state\n",
    "        xm = np.random.choice([1, 2, 3], size=1, p=pi)[0]\n",
    "        xlist.append(xm)\n",
    "        xmm1 = xm\n",
    "    # Find the location of 1\n",
    "    xlist = np.array(xlist)\n",
    "    ind = list(np.where(xlist == 1)[0])\n",
    "    # Calculate the mean occupation time\n",
    "    for k in range(len(ind)-1):\n",
    "        if ind[k+1]-ind[k]-1 > 0:\n",
    "            ocp.append(ind[k+1]-ind[k]-1) \n",
    "    # Calculate the cov\n",
    "    ocp = np.array(ocp)\n",
    "    std = np.std(ocp)\n",
    "    mean = np.mean(ocp)\n",
    "    cov = std/mean\n",
    "    return mean, cov"
   ]
  },
  {
   "cell_type": "code",
   "execution_count": 42,
   "metadata": {},
   "outputs": [],
   "source": [
    "PT = np.array([[0.5, 0.3, 0.2], [0.2, 0.5, 0.3], [0.1, 0.2, 0.7]])"
   ]
  },
  {
   "cell_type": "code",
   "execution_count": 45,
   "metadata": {},
   "outputs": [],
   "source": [
    "K = 10\n",
    "N = 500000\n",
    "ELIST = []\n",
    "for k in range(K):\n",
    "    E, COV = markovsimulation(N, PT)\n",
    "    ELIST.append(E)"
   ]
  },
  {
   "cell_type": "code",
   "execution_count": 46,
   "metadata": {},
   "outputs": [
    {
     "data": {
      "text/plain": [
       "[7.1253535261381264,\n",
       " 7.1075666709199945,\n",
       " 7.092497000981497,\n",
       " 7.091689242013781,\n",
       " 7.113281891315055,\n",
       " 7.0986035855849305,\n",
       " 7.133917145051007,\n",
       " 7.097364927530961,\n",
       " 7.120375603974838,\n",
       " 7.110199617172546]"
      ]
     },
     "execution_count": 46,
     "metadata": {},
     "output_type": "execute_result"
    }
   ],
   "source": [
    "ELIST"
   ]
  },
  {
   "cell_type": "code",
   "execution_count": 47,
   "metadata": {},
   "outputs": [
    {
     "name": "stdout",
     "output_type": "stream",
     "text": [
      "7.109084921068273\n"
     ]
    }
   ],
   "source": [
    "print(np.mean(ELIST))"
   ]
  },
  {
   "cell_type": "code",
   "execution_count": 48,
   "metadata": {},
   "outputs": [
    {
     "name": "stdout",
     "output_type": "stream",
     "text": [
      "7.528993633302724\n"
     ]
    }
   ],
   "source": [
    "print(24597222.2/3.267e6)"
   ]
  },
  {
   "cell_type": "code",
   "execution_count": 51,
   "metadata": {},
   "outputs": [
    {
     "name": "stdout",
     "output_type": "stream",
     "text": [
      "15000.0\n"
     ]
    }
   ],
   "source": [
    "print(75/0.005)"
   ]
  },
  {
   "cell_type": "code",
   "execution_count": null,
   "metadata": {},
   "outputs": [],
   "source": []
  }
 ],
 "metadata": {
  "kernelspec": {
   "display_name": "Python 3",
   "language": "python",
   "name": "python3"
  },
  "language_info": {
   "codemirror_mode": {
    "name": "ipython",
    "version": 3
   },
   "file_extension": ".py",
   "mimetype": "text/x-python",
   "name": "python",
   "nbconvert_exporter": "python",
   "pygments_lexer": "ipython3",
   "version": "3.8.3"
  }
 },
 "nbformat": 4,
 "nbformat_minor": 4
}
